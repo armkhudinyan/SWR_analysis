{
 "cells": [
  {
   "cell_type": "code",
   "execution_count": 1,
   "metadata": {},
   "outputs": [],
   "source": [
    "import os\n",
    "import time\n",
    "\n",
    "import numpy as np \n",
    "import pandas as pd \n",
    "from statistics import mean \n",
    "from collections import Counter\n",
    "import pickle\n",
    "from sklearn.preprocessing import StandardScaler \n",
    "from sklearn.datasets import fetch_openml\n",
    "import matplotlib.pyplot as plt\n",
    "\n",
    "from sklearn.linear_model import LogisticRegression \n",
    "from sklearn.ensemble import RandomForestClassifier\n",
    "from sklearn.ensemble import GradientBoostingClassifier\n",
    "from sklearn.svm import SVC\n",
    "\n",
    "from sklearn.model_selection import train_test_split \n",
    "from statistics import stdev\n"
   ]
  },
  {
   "cell_type": "code",
   "execution_count": 2,
   "metadata": {},
   "outputs": [],
   "source": [
    "def download():\n",
    "        \n",
    "    PATH = r'C:\\Users\\arman\\Desktop\\ActiveLearning\\Experiment\\dgt_agri'\n",
    "    data_path = os.path.join(PATH, 'Agri_data')\n",
    "    \n",
    "    train = pd.read_csv(os.path.join(data_path,'training.csv'))\n",
    "    test = pd.read_csv(os.path.join(data_path,'testing.csv'))\n",
    "    \n",
    "    dataset_size = train.groupby('CLASS').size()\n",
    "    print('sample size:', train.shape[0], '\\n'+'features:', train.shape[1])\n",
    "    print('train dataset class_size: ', dataset_size)\n",
    "    #print('dataset skewness', train.iloc[:, 2:].skew)\n",
    "    \n",
    "    return (train, test)\n"
   ]
  },
  {
   "cell_type": "code",
   "execution_count": null,
   "metadata": {
    "scrolled": true
   },
   "outputs": [],
   "source": [
    "#train, test = download()\n",
    "train_size = train.groupby('CLASS').size()\n",
    "test_size = test.groupby('CLASS').size()\n",
    "\n",
    "df = pd.concat((train_size,test_size), axis = 1)\n",
    "df = df.reset_index()\n",
    "df.columns = ['Class ID', 'Train size', 'Test size']\n",
    "#pd.DataFrame.to_csv(df,'class_size.csv')\n",
    "df"
   ]
  }
 ],
 "metadata": {
  "kernelspec": {
   "display_name": "Python 3",
   "language": "python",
   "name": "python3"
  },
  "language_info": {
   "codemirror_mode": {
    "name": "ipython",
    "version": 3
   },
   "file_extension": ".py",
   "mimetype": "text/x-python",
   "name": "python",
   "nbconvert_exporter": "python",
   "pygments_lexer": "ipython3",
   "version": "3.7.4"
  }
 },
 "nbformat": 4,
 "nbformat_minor": 2
}
